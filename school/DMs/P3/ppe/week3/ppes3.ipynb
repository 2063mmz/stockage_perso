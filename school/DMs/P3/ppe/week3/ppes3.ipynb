{
 "cells": [
  {
   "cell_type": "code",
   "execution_count": 1,
   "id": "1c05e4bc-7424-4fb3-92aa-fa3c554ca008",
   "metadata": {},
   "outputs": [],
   "source": [
    "import feedparser"
   ]
  },
  {
   "cell_type": "code",
   "execution_count": null,
   "id": "42002305-32e4-4244-a223-a98e19de9720",
   "metadata": {},
   "outputs": [],
   "source": []
  },
  {
   "cell_type": "markdown",
   "id": "cb723c4e-d71e-405f-8e2a-7d4bb2a2b4d9",
   "metadata": {},
   "source": [
    "\n",
    "import feedparser\n",
    "\n",
    "def test(file_path):\n",
    "    print(f'Processing file: {file_path}')\n",
    "    page_dict = feedparser.parse(file_path)\n",
    "    ''' 解析得到的是一个字典 '''\n",
    "    # print(page_dict)  # 可以取消注释以查看完整字典内容\n",
    "    ''' \n",
    "    输出字典中的键值有哪些，一共有10中如下：\n",
    "    ['feed', 'status', 'version', 'encoding', 'bozo', 'headers', 'href', 'namespaces', 'entries', 'bozo_exception']\n",
    "    '''\n",
    "\n",
    "    title = page_dict['feed']['title']\n",
    "    print (title)\n",
    "    guid = page_dict['feed']['guid']\n",
    "    print(guid)\n",
    "\n",
    "if __name__ == '__main__':\n",
    "    # 使用本地的 XML 文件路径列表\n",
    "    file_list = ['/home/caoyue/PPEs2/corpus-s3/lun.2025-02-10.13:41/Blast -- articles.xml',\n",
    "                 '/home/caoyue/PPEs2/corpus-s3/lun.2025-02-10.13:41/Flux RSS - BFMTV - Société'\n",
    "                ]\n",
    "    for file_path in file_list:\n",
    "        try:\n",
    "            test(file_path)\n",
    "        except Exception as e:\n",
    "            print('????????????????????????????????????????????????????????????')\n",
    "            print(f\"Error: {e}\")\n"
   ]
  },
  {
   "cell_type": "code",
   "execution_count": 7,
   "id": "e5090bd8-8ede-4a59-a0f7-573d7a888970",
   "metadata": {},
   "outputs": [
    {
     "name": "stderr",
     "output_type": "stream",
     "text": [
      "usage: ipykernel_launcher.py [-h] xml_path\n",
      "ipykernel_launcher.py: error: unrecognized arguments: -f\n"
     ]
    },
    {
     "ename": "SystemExit",
     "evalue": "2",
     "output_type": "error",
     "traceback": [
      "An exception has occurred, use %tb to see the full traceback.\n",
      "\u001b[0;31mSystemExit\u001b[0m\u001b[0;31m:\u001b[0m 2\n"
     ]
    },
    {
     "name": "stderr",
     "output_type": "stream",
     "text": [
      "/home/caoyue/anaconda3/lib/python3.12/site-packages/IPython/core/interactiveshell.py:3585: UserWarning: To exit: use 'exit', 'quit', or Ctrl-D.\n",
      "  warn(\"To exit: use 'exit', 'quit', or Ctrl-D.\", stacklevel=1)\n"
     ]
    }
   ],
   "source": [
    "\n",
    "import feedparser\n",
    "import argparse\n",
    "import json\n",
    "\n",
    "def parse_with_feedparser(xml_path):\n",
    "    \"\"\"使用 feedparser 解析 RSS/XML 文件，返回元数据和文本内容\"\"\"\n",
    "    feed = feedparser.parse(xml_path)\n",
    "    \n",
    "    metadata = {\n",
    "        \"title\": feed.feed.get(\"title\", \"\"),\n",
    "        \"description\": feed.feed.get(\"description\", \"\"),\n",
    "        \"link\": feed.feed.get(\"link\", \"\"),\n",
    "    }\n",
    "    \n",
    "    items = []\n",
    "    for entry in feed.entries:\n",
    "        item = {\n",
    "            \"title\": entry.get(\"title\", \"\"),\n",
    "            \"description\": entry.get(\"description\", \"\"),\n",
    "            \"link\": entry.get(\"link\", \"\"),\n",
    "            \"published\": entry.get(\"published\", \"\"),\n",
    "        }\n",
    "        items.append(item)\n",
    "    \n",
    "    return {\"metadata\": metadata, \"items\": items}\n",
    "\n",
    "def main():\n",
    "    parser = argparse.ArgumentParser(description=\"RSS 解析器 (r3: feedparser)\")\n",
    "    parser.add_argument(\"xml_path\", help=\"RSS/XML 文件路径\")\n",
    "    args = parser.parse_args()\n",
    "    \n",
    "    result = parse_with_feedparser(args.xml_path)\n",
    "    print(json.dumps(result, indent=2, ensure_ascii=False))\n",
    "\n",
    "if __name__ == \"__main__\":\n",
    "    main()"
   ]
  },
  {
   "cell_type": "code",
   "execution_count": null,
   "id": "418e0c1f-48ae-4eb6-a749-976c885264d9",
   "metadata": {},
   "outputs": [],
   "source": []
  },
  {
   "cell_type": "code",
   "execution_count": null,
   "id": "efd5fb7f-e2e6-4a52-98c6-7fe8c66dee2e",
   "metadata": {},
   "outputs": [],
   "source": [
    "def build_co_occurrence_matrix_window(corpus, vocab, window_size=4):\n",
    "    word_index = {word: i for i, word in enumerate(vocab)}\n",
    "    co_matrix = np.zeros((len(vocab),len(vocab))) # TODO\n",
    "\n",
    "    for text in corpus:\n",
    "        text = text.split(\" \")\n",
    "        # TODO\n",
    "        for i, word in enumerate(text):\n",
    "          start = max(i-window_size,0)\n",
    "          end = min(i+window_size+1,len(text))\n",
    "\n",
    "          for j in range(start,end):\n",
    "            if i != j and text[j] in word_index: \n",
    "              co_matrix[word_index[word], word_index[text[j]]] += 1\n",
    "\n",
    "          \n",
    "    return co_matrix"
   ]
  },
  {
   "cell_type": "code",
   "execution_count": null,
   "id": "efa1cefb-c4e4-49c6-a70a-302c1d56bb23",
   "metadata": {},
   "outputs": [],
   "source": [
    "\n",
    "\n",
    "def build_co_occurrence_matrix_window(corpus, vocab, window_size=4):\n",
    "    word_index = {word: i for i, word in enumerate(vocab)}\n",
    "    co_matrix = np.zeros((len(vocab),len(vocab))) # TODO\n",
    "\n",
    "    for text in corpus:\n",
    "        text = text.split(\" \")\n",
    "        # TODO\n",
    "        for i, word in enumerate(text):\n",
    "          start = max(i-window_size,0)\n",
    "          end = min(i+window_size+1,len(text))\n",
    "\n",
    "          for j in range(start,end):\n",
    "            if i != j and text[j] in word_index: \n",
    "              co_matrix[word_index[word], word_index[text[j]]] += 1\n",
    "\n",
    "          \n",
    "    return co_matrix"
   ]
  }
 ],
 "metadata": {
  "kernelspec": {
   "display_name": "Python 3 (ipykernel)",
   "language": "python",
   "name": "python3"
  },
  "language_info": {
   "codemirror_mode": {
    "name": "ipython",
    "version": 3
   },
   "file_extension": ".py",
   "mimetype": "text/x-python",
   "name": "python",
   "nbconvert_exporter": "python",
   "pygments_lexer": "ipython3",
   "version": "3.12.7"
  }
 },
 "nbformat": 4,
 "nbformat_minor": 5
}
