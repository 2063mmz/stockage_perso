{
 "cells": [
  {
   "cell_type": "code",
   "execution_count": 1,
   "id": "1c05e4bc-7424-4fb3-92aa-fa3c554ca008",
   "metadata": {},
   "outputs": [],
   "source": [
    "import feedparser"
   ]
  },
  {
   "cell_type": "code",
   "execution_count": 12,
   "id": "eee53b4c-e7ff-4e79-9433-088b2f7a72ef",
   "metadata": {},
   "outputs": [
    {
     "name": "stdout",
     "output_type": "stream",
     "text": [
      "Processing file: /home/caoyue/PPEs2/corpus-s3/lun.2025-02-10.13:41/Blast -- articles.xml\n",
      "Blast - Le souffle de l’info\n",
      "????????????????????????????????????????????????????????????\n",
      "Error: 'guid'\n",
      "Processing file: /home/caoyue/PPEs2/corpus-s3/lun.2025-02-10.13:41/Flux RSS - BFMTV - Société\n",
      "????????????????????????????????????????????????????????????\n",
      "Error: 'title'\n"
     ]
    }
   ],
   "source": [
    "import feedparser\n",
    "\n",
    "def test(file_path):\n",
    "    print(f'Processing file: {file_path}')\n",
    "    page_dict = feedparser.parse(file_path)\n",
    "    ''' 解析得到的是一个字典 '''\n",
    "    # print(page_dict)  # 可以取消注释以查看完整字典内容\n",
    "    ''' \n",
    "    输出字典中的键值有哪些，一共有10中如下：\n",
    "    ['feed', 'status', 'version', 'encoding', 'bozo', 'headers', 'href', 'namespaces', 'entries', 'bozo_exception']\n",
    "    '''\n",
    "\n",
    "    title = page_dict['feed']['title']\n",
    "    print (title)\n",
    "    guid = page_dict['feed']['guid']\n",
    "    print(guid)\n",
    "\n",
    "if __name__ == '__main__':\n",
    "    # 使用本地的 XML 文件路径列表\n",
    "    file_list = ['/home/caoyue/PPEs2/corpus-s3/lun.2025-02-10.13:41/Blast -- articles.xml',\n",
    "                 '/home/caoyue/PPEs2/corpus-s3/lun.2025-02-10.13:41/Flux RSS - BFMTV - Société'\n",
    "                ]\n",
    "    for file_path in file_list:\n",
    "        try:\n",
    "            test(file_path)\n",
    "        except Exception as e:\n",
    "            print('????????????????????????????????????????????????????????????')\n",
    "            print(f\"Error: {e}\")\n"
   ]
  },
  {
   "cell_type": "code",
   "execution_count": null,
   "id": "e5090bd8-8ede-4a59-a0f7-573d7a888970",
   "metadata": {},
   "outputs": [],
   "source": []
  }
 ],
 "metadata": {
  "kernelspec": {
   "display_name": "Python 3 (ipykernel)",
   "language": "python",
   "name": "python3"
  },
  "language_info": {
   "codemirror_mode": {
    "name": "ipython",
    "version": 3
   },
   "file_extension": ".py",
   "mimetype": "text/x-python",
   "name": "python",
   "nbconvert_exporter": "python",
   "pygments_lexer": "ipython3",
   "version": "3.12.7"
  }
 },
 "nbformat": 4,
 "nbformat_minor": 5
}
